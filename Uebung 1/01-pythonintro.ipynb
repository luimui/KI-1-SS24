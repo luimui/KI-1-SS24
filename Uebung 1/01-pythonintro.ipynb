{
  "cells": [
    {
      "cell_type": "markdown",
      "metadata": {
        "id": "2tdt_SbZMeQc"
      },
      "source": [
        "# Einführung in Python\n",
        "\n",
        "Dieses Tutorial stützt sich stark auf [dieses Tutorial über Audiosignalverarbeitung](https://github.com/spatialaudio/selected-topics-in-audio-signal-processing-exercises).\n",
        "\n",
        "Für die Übungen werden wir die sehr beliebte Programmiersprache [Python](https://www.python.org) zusammen mit einigen externen Bibliotheken aus dem [Scientific Python Stack](http://scipy.org) verwenden.\n",
        "Für den Anfang können Sie auch einen Blick auf diese werfen:\n",
        "\n",
        "* [Python Einführung](http://nbviewer.ipython.org/github/mgeier/python-audio/blob/master/intro-python.ipynb) (reines Python, kein NumPy)\n",
        "\n",
        "* [Simple Signal Processing Example](http://nbviewer.ipython.org/github/mgeier/python-audio/blob/master/simple-signals.ipynb) (ziemlich ähnlich zu den Dingen auf dieser Seite)\n",
        "\n",
        "Beachten Sie, dass Python nicht die einzige Option für die Art von Aufgaben ist, die wir hier angehen werden.\n",
        "Wenn Sie sich für einige Alternativen interessieren, schauen Sie sich [Julia](http://julialang.org/), [R](http://www.r-project.org/), [Octave](http://octave.org/) oder [Scilab](http://www.scilab.org/) an.\n",
        "Alle genannten Anwendungen sind Open-Source-Software und es gibt natürlich noch mehr Alternativen (sowohl kostenlose als auch proprietäre).\n",
        "\n",
        "Die meisten Übungen in diesem Kurs (einschließlich derjenigen, die Sie gerade lesen) werden als [Jupyter (früher bekannt als IPython) notebooks](http://jupyter.org/) präsentiert.\n",
        "Sie können [online](http://nbviewer.jupyter.org/github/spatialaudio/communication-acoustics-exercises/blob/master/index.ipynb) angesehen werden, aber es ist viel sinnvoller, sie herunterzuladen und sie lokal mit [Jupyter](http://jupyter.org/) zu öffnen und zu erkunden.\n",
        "\n",
        "Anweisungen zur Installation finden Sie im Abschnitt [Getting Started](index.ipynb#Getting-Started) auf der Hauptseite.\n",
        "\n",
        "Um eine Vorstellung davon zu bekommen, worum es bei Jupyter geht, werfen Sie einen Blick auf diese [Jupyter-Einführung](http://nbviewer.jupyter.org/github/mgeier/python-audio/blob/master/intro-jupyter.ipynb)."
      ]
    },
    {
      "cell_type": "markdown",
      "metadata": {
        "tags": [],
        "id": "6mwirRSNMeQd"
      },
      "source": [
        "## Was werden wir heute lernen?\n",
        "\n",
        "* Grundlagen von Python, Jupyter/IPython, NumPy, SciPy, matplotlib und einigen anderen externen Bibliotheken"
      ]
    },
    {
      "cell_type": "markdown",
      "metadata": {
        "tags": [],
        "id": "K4cf-yuxMeQd"
      },
      "source": [
        "## Notebook Cells\n",
        "\n",
        "Das Notebook besteht aus sogenannten \"Zellen\", die für normalen Text (siehe oben) oder für Python-Code (siehe unten) verwendet werden können.\n",
        "*Code-Zellen* können per Mausklick (oder mit den Pfeiltasten nach oben/unten und *Enter*) ausgewählt werden, der Code kann bearbeitet und dann durch Drücken von *Shift+Enter* oder durch Anklicken der <button class=\"fa fa-step-forward fa-play icon-play btn btn-xs btn-default\"></button> Schaltfläche im oberen Teil der Seite ausgeführt werden.\n",
        "\n",
        "Seien Sie nicht schüchtern, probieren Sie es aus:"
      ]
    },
    {
      "cell_type": "code",
      "execution_count": null,
      "metadata": {
        "id": "JP8xZY0nMeQd"
      },
      "outputs": [],
      "source": [
        "50 - 5 * 4 + 12\n",
        "a = 10"
      ]
    },
    {
      "cell_type": "markdown",
      "metadata": {
        "id": "AH0so_s9MeQe"
      },
      "source": [
        "Codezellen können aus mehreren Zeilen bestehen (verwenden Sie *Enter* für Zeilenumbrüche).\n",
        "Wenn die Codezelle ausgeführt wird, werden alle Zeilen ausgeführt, aber nur der Wert der letzten Zeile wird angezeigt (es sei denn, es gibt keinen Wert anzuzeigen).\n",
        "\n",
        "Hier ist eine weitere Codezelle, mit der Sie spielen können:"
      ]
    },
    {
      "cell_type": "code",
      "execution_count": null,
      "metadata": {
        "id": "vl_POmOBMeQe"
      },
      "outputs": [],
      "source": []
    },
    {
      "cell_type": "markdown",
      "metadata": {
        "id": "quJ2jdOJMeQe"
      },
      "source": [
        "Neue Zellen können durch Drücken der Tasten *a* oder *b* (zum Einfügen *oberhalb* oder *unterhalb* der aktuellen Zelle) oder über das Menü eingefügt werden. Sie sollten auch einen Blick auf \"Hilfe\" -> \"Tastaturkürzel\" werfen.\n",
        "\n",
        "Durch wiederholtes Drücken der Tastenkombination *Umschalttaste+Eingabetaste* können Sie alle Zellen des Notebooks durchlaufen.\n",
        "Alternativ können Sie auch im Menü \"Run\" auf \"Run All Cells\" klicken."
      ]
    },
    {
      "cell_type": "markdown",
      "metadata": {
        "id": "eqTSZ3DlMeQe"
      },
      "source": [
        "# Basics\n",
        "Im Folgenden finden Sie ein Python-Programm, das viele der typischerweise benötigten Operationen enthält: Zuweisungen, Arithmetik, logische Operatoren, Ausgabe, Kommentare. Wie Sie sehen, ist Python recht einfach zu lesen. Ich bin sicher, Sie können die Bedeutung jeder Zeile selbst herausfinden."
      ]
    },
    {
      "cell_type": "code",
      "execution_count": null,
      "metadata": {
        "id": "9JodSCacMeQe"
      },
      "outputs": [],
      "source": [
        "x = 34 - 23 # A comment.\n",
        "y = \"Hello\" # Another one.\n",
        "z = 3.45\n",
        "if z == 3.45 or y == \"Hello\":\n",
        "    x = x + 1\n",
        "    y = y + \" World\"\n",
        "print(x)\n",
        "print(y)"
      ]
    },
    {
      "cell_type": "markdown",
      "metadata": {
        "id": "-_cA9NRUMeQe"
      },
      "source": [
        "## Einrückung\n",
        "Python behandelt Blöcke anders als andere Programmiersprachen, die Sie vielleicht kennen, wie Java oder C: Die erste Zeile mit weniger Einrückung steht außerhalb des Blocks, die erste Zeile mit mehr Einrückung beginnt einen verschachtelten Block. Ein Doppelpunkt leitet oft einen neuen Block ein. Im nachstehenden Code wird zum Beispiel die vierte Zeile immer ausgeführt, da sie nicht Teil des Blocks ist:"
      ]
    },
    {
      "cell_type": "code",
      "execution_count": null,
      "metadata": {
        "id": "vLMewYcrMeQe"
      },
      "outputs": [],
      "source": [
        "if 17<16:\n",
        "    print(\"executed conditionally\")\n",
        "    print(\"also conditionally\")\n",
        "print(\"always executed, because not part of the block above\")"
      ]
    },
    {
      "cell_type": "markdown",
      "metadata": {
        "id": "EeZbZZqlMeQf"
      },
      "source": [
        "## Referenz-Semantik\n",
        "Zuweisungen verhalten sich so, wie Sie es vielleicht aus Java kennen: Für atomare Datentypen funktionieren Zuweisungen \"by value\", für alle anderen Datentypen (z.B. Listen) funktionieren Zuweisungen \"by reference\": Wenn wir ein Objekt manipulieren, wirkt sich das auf alle Referenzen aus."
      ]
    },
    {
      "cell_type": "code",
      "execution_count": null,
      "metadata": {
        "id": "mS4qTlUlMeQf"
      },
      "outputs": [],
      "source": [
        "a=17\n",
        "b=a #assign the *value* of a to b\n",
        "a=12\n",
        "print(b) #still 12, because assinment by value\n",
        "\n",
        "x=[1,2,3] #this is what lists look like\n",
        "y=x #assign reference to the list to y\n",
        "x.append(4) #manipulate the list by adding a value\n",
        "print(y) #y also changed, because of assingment by reference"
      ]
    },
    {
      "cell_type": "markdown",
      "metadata": {
        "id": "WlwJY1JeMeQf"
      },
      "source": [
        "# Listen\n",
        "Listen werden in eckigen Klammern geschrieben, wie Sie oben gesehen haben. Listen können Werte gemischten Typs enthalten. Listenindizes beginnen mit 0, wie Sie hier sehen können:"
      ]
    },
    {
      "cell_type": "code",
      "execution_count": null,
      "metadata": {
        "colab": {
          "base_uri": "https://localhost:8080/",
          "height": 35
        },
        "id": "S1UBOOjDMeQf",
        "outputId": "7a8ed230-d30e-47c0-d6d4-0e29572b9f68"
      },
      "outputs": [
        {
          "output_type": "execute_result",
          "data": {
            "text/plain": [
              "'Bar'"
            ],
            "application/vnd.google.colaboratory.intrinsic+json": {
              "type": "string"
            }
          },
          "metadata": {},
          "execution_count": 2
        }
      ],
      "source": [
        "li = [17,\"Hello\",4.1,\"Bar\",5,6]\n",
        "li[3]"
      ]
    },
    {
      "cell_type": "markdown",
      "metadata": {
        "id": "2NZtm_LqMeQf"
      },
      "source": [
        "Sie können auch negative Indizes verwenden, d. h. wir beginnen die Zählung von rechts:"
      ]
    },
    {
      "cell_type": "code",
      "execution_count": null,
      "metadata": {
        "colab": {
          "base_uri": "https://localhost:8080/",
          "height": 35
        },
        "id": "AHxqAYXCMeQf",
        "outputId": "22773490-c5fc-49e6-94d7-baaeb0601236"
      },
      "outputs": [
        {
          "output_type": "execute_result",
          "data": {
            "text/plain": [
              "'Bar'"
            ],
            "application/vnd.google.colaboratory.intrinsic+json": {
              "type": "string"
            }
          },
          "metadata": {},
          "execution_count": 3
        }
      ],
      "source": [
        "li[-3]"
      ]
    },
    {
      "cell_type": "markdown",
      "metadata": {
        "id": "KWJEopwyMeQf"
      },
      "source": [
        "Sie können auch Teilmengen von Listen auswählen (\"slicing\"), etwa so:"
      ]
    },
    {
      "cell_type": "code",
      "execution_count": null,
      "metadata": {
        "id": "4taEP38NMeQf"
      },
      "outputs": [],
      "source": [
        "li[2:5]"
      ]
    },
    {
      "cell_type": "markdown",
      "metadata": {
        "id": "VDEkNQR7MeQf"
      },
      "source": [
        "Beachten Sie, dass das Slicing eine Kopie der Teilliste zurückgibt."
      ]
    },
    {
      "cell_type": "markdown",
      "metadata": {
        "id": "NjE45kywMeQg"
      },
      "source": [
        "## Einige weitere Listenoperatoren\n",
        "Hier sind einige weitere Operatoren, die Sie vielleicht nützlich finden."
      ]
    },
    {
      "cell_type": "code",
      "execution_count": null,
      "metadata": {
        "tags": [],
        "colab": {
          "base_uri": "https://localhost:8080/"
        },
        "id": "R3StgpFyMeQg",
        "outputId": "5a0c0bd5-5404-4afd-d517-035a55447430"
      },
      "outputs": [
        {
          "output_type": "stream",
          "name": "stdout",
          "text": [
            "True\n",
            "[1, 2, 3, 4, 5, 6, 7]\n"
          ]
        }
      ],
      "source": [
        "# Boolean test whether a value is in a list: the in operator\n",
        "t = [1,2,3,4]\n",
        "print(2 in t)\n",
        "\n",
        "# Concatenate lists: the + operator\n",
        "a = [1,2,3,4]\n",
        "b = [5,6,7]\n",
        "c = a + b\n",
        "print(c)\n",
        "\n",
        "# Repeat a list n times: the * operator\n",
        "a=[1,2,3]\n",
        "3*a\n",
        "\n",
        "# Append lists\n",
        "a=[1,2,3]\n",
        "a.append(4)\n",
        "\n",
        "# Index of first occurence\n",
        "a.index(2)\n",
        "\n",
        "# Number of occurences\n",
        "a = [1,2,3,2,1,2]\n",
        "a.count(2)\n",
        "\n",
        "# Remove first occurence\n",
        "a.remove(2)\n",
        "\n",
        "# Revese the list\n",
        "a.reverse()\n",
        "\n",
        "# Sort the list\n",
        "a.sort()"
      ]
    },
    {
      "cell_type": "markdown",
      "metadata": {
        "id": "sxJys91dMeQg"
      },
      "source": [
        "*Aufgabe*: Probieren Sie aus was passiert, wenn Sie eine Liste von Strings mit den unten verwendeten Methoden sortieren! Was könnte der Grund für das gezeigte Verhalten sein?"
      ]
    },
    {
      "cell_type": "code",
      "execution_count": null,
      "metadata": {
        "tags": [],
        "colab": {
          "base_uri": "https://localhost:8080/"
        },
        "id": "NSroxqhUMeQg",
        "outputId": "8ef00c19-e58e-407a-c836-54685e7681aa"
      },
      "outputs": [
        {
          "output_type": "stream",
          "name": "stdout",
          "text": [
            "Original string_list:  ['c', 'd', 'a', 'y', 'x']\n",
            "Value which is returned by sorted()-method:  ['a', 'c', 'd', 'x', 'y']\n",
            "Original string_list:  ['c', 'd', 'a', 'y', 'x']\n",
            "Value which is returned by sort()-method:  None\n"
          ]
        }
      ],
      "source": [
        "string_list = ['c', 'd', 'a', 'y', 'x']\n",
        "# Sorting with sorted()-method\n",
        "print('Original string_list: ', string_list)\n",
        "print('Value which is returned by sorted()-method: ', sorted(string_list))\n",
        "\n",
        "# Sorting with sort()-method\n",
        "print('Original string_list: ', str(string_list))\n",
        "print('Value which is returned by sort()-method: ', string_list.sort())\n"
      ]
    },
    {
      "cell_type": "code",
      "source": [
        "print(string_list.sort())"
      ],
      "metadata": {
        "colab": {
          "base_uri": "https://localhost:8080/"
        },
        "id": "_zxrY76UOmT9",
        "outputId": "cf6d5883-33d1-4900-da0b-cf33e88f171c"
      },
      "execution_count": null,
      "outputs": [
        {
          "output_type": "stream",
          "name": "stdout",
          "text": [
            "None\n"
          ]
        }
      ]
    },
    {
      "cell_type": "markdown",
      "metadata": {
        "id": "x5Br0M_JMeQg"
      },
      "source": [
        "## Dictionaries: Ein Mapping-Typ\n",
        "Dictionaries sind in anderen Sprachen als Maps bekannt: Sie speichern eine Zuordnung zwischen einer Menge von Schlüsseln und einer Menge von Werten. Im Folgenden finden Sie ein Beispiel für die Verwendung von Dictionaries:"
      ]
    },
    {
      "cell_type": "code",
      "execution_count": null,
      "metadata": {
        "tags": [],
        "colab": {
          "base_uri": "https://localhost:8080/"
        },
        "id": "tEWszKitMeQg",
        "outputId": "7b778c52-bbf1-47df-f070-af235a980fa2"
      },
      "outputs": [
        {
          "output_type": "stream",
          "name": "stdout",
          "text": [
            "Value for key 'user':  bozo\n",
            "List of keys:  dict_keys(['user', 'pswd', 'id'])\n",
            "List of values:  dict_values(['bozo', 1234, 17])\n"
          ]
        }
      ],
      "source": [
        "# Create a new dictionary\n",
        "d = {'user':'bozo',\n",
        "     'pswd':1234}\n",
        "\n",
        "# Access the values via a key\n",
        "print('Value for key \\'user\\': ', d['user'])\n",
        "\n",
        "# Add key-value pairs\n",
        "d['id'] = 17\n",
        "\n",
        "# List of keys\n",
        "print('List of keys: ', d.keys())\n",
        "\n",
        "# List of values\n",
        "print('List of values: ', d.values())"
      ]
    },
    {
      "cell_type": "markdown",
      "metadata": {
        "id": "qXU9CxYyMeQg"
      },
      "source": [
        "# Funktionen\n",
        "Funktionen in Python funktionieren so, wie Sie es erwarten würden: Argumente an Funktionen werden durch Zuweisung übergeben, das heißt, übergebene Argumente werden lokalen Namen zugewiesen. Zuweisungen an Argumente können sich nicht auf den Aufrufer auswirken, aber veränderbare Argumente können sich ändern. Hier ist ein Beispiel für die Definition und den Aufruf einer Funktion:\n"
      ]
    },
    {
      "cell_type": "code",
      "execution_count": null,
      "metadata": {
        "tags": [],
        "id": "OXM9NqIhMeQg"
      },
      "outputs": [],
      "source": [
        "def myfun(x: int, y: float):\n",
        "    print(\"The function is executed.\")\n",
        "    y[0]=8 # This changes the list that y points to\n",
        "    return(y[1]+x)\n",
        "\n",
        "mylist = [1,2,3]\n",
        "result=myfun(17,mylist)\n",
        "print(\"Function returned: \",result)\n",
        "print(\"List is now: \",mylist)"
      ]
    },
    {
      "cell_type": "markdown",
      "metadata": {
        "id": "zXi5L0ZRMeQg"
      },
      "source": [
        "Beachten Sie, das `x: int` eine sogenannter *Type-Hint* ist. Das bedeutet, dass das `int` nach dem `:` vom Python-Interpreter nicht beachtet wird. Diese Art von Anotation soll also dem Entwickler nur ein Hinweis darauf geben, welchen Datentypen für welchen Parameter er erwarten kann, erzwingt aber keine Typsicherheit in Python!"
      ]
    },
    {
      "cell_type": "markdown",
      "metadata": {
        "id": "o0lGcYrhMeQg"
      },
      "source": [
        "## Optionale Argumente\n",
        "Wir können Standardwerte für Argumente definieren, die nicht übergeben werden müssen:"
      ]
    },
    {
      "cell_type": "code",
      "execution_count": null,
      "metadata": {
        "id": "VSloPCKnMeQg"
      },
      "outputs": [],
      "source": [
        "def func(a, b, c=10, d=100):\n",
        "    print(a, b, c, d)\n",
        "type(func(b=1,a=2))\n",
        "myfun(1,2)"
      ]
    },
    {
      "cell_type": "markdown",
      "metadata": {
        "id": "zzG5Ncq5MeQh"
      },
      "source": [
        "Einige weitere Fakten über Funktionen:\n",
        "* Alle Funktionen in Python haben einen Rückgabewert, Funktionen ohne Rückgabewert haben den speziellen Rückgabewert `None` (wie z. B. die sort()-Funktion)\n",
        "* Es gibt keine Funktionsüberladung in Python.\n",
        "* Funktionen können wie jeder andere Datentyp verwendet werden: Sie können Argumente für Funktionen sein, Rückgabewerte von Funktionen, Variablen zugewiesen, usw. Das bedeutet, dass Python eine funktionale Programmiersprache ist, und wir können viele Dinge tun, die Sie aus Haskell kennen und lieben, wie Funktionen höherer Ordnung oder auch Lambda-Ausdrücke!"
      ]
    },
    {
      "cell_type": "markdown",
      "metadata": {
        "id": "S4-BZ9fxMeQh"
      },
      "source": [
        "# Kontrollstrukturen\n",
        "Wir haben oben bereits If-Anweisungen gesehen. For- und While-Schleifen funktionieren auch genau so, wie Sie es erwarten würden, hier sind nur einige Beispiele:"
      ]
    },
    {
      "cell_type": "code",
      "execution_count": null,
      "metadata": {
        "id": "ySCQwh_NMeQh"
      },
      "outputs": [],
      "source": [
        "x = 3\n",
        "while x < 10:\n",
        "    if x > 7:\n",
        "        x += 2\n",
        "        continue\n",
        "    x = x + 1\n",
        "    print(\"Still in the loop.\")\n",
        "    if x == 8:\n",
        "        break\n",
        "print(\"Outside of the loop.\")"
      ]
    },
    {
      "cell_type": "code",
      "execution_count": null,
      "metadata": {
        "colab": {
          "base_uri": "https://localhost:8080/"
        },
        "id": "4WJN_K-1MeQh",
        "outputId": "b42e41bb-97f2-426f-fc63-3ad8a485eacd"
      },
      "outputs": [
        {
          "output_type": "stream",
          "name": "stdout",
          "text": [
            "Still in the loop, x=  1\n",
            "Still in the loop, x=  2\n",
            "Still in the loop, x=  3\n",
            "Still in the loop, x=  4\n",
            "Still in the loop, x=  5\n",
            "Still in the loop, x=  6\n",
            "Still in the loop, x=  7\n",
            "Still in the loop, x=  8\n",
            "Outside of the loop, x=  8\n"
          ]
        }
      ],
      "source": [
        "for x in range(10):\n",
        "    if x > 7:\n",
        "        x += 2\n",
        "        continue\n",
        "    x = x + 1\n",
        "    print(\"Still in the loop, x= \" , x)\n",
        "    if x == 8:\n",
        "        break\n",
        "print(\"Outside of the loop, x= \" , x)"
      ]
    },
    {
      "cell_type": "markdown",
      "metadata": {
        "id": "MqA_JdkbMeQh"
      },
      "source": [
        "*Aufgabe*: Implementieren Sie eine Funktion, die prüft, ob eine gegebene Zahl eine Primzahl ist."
      ]
    },
    {
      "cell_type": "code",
      "execution_count": 1,
      "metadata": {
        "colab": {
          "base_uri": "https://localhost:8080/"
        },
        "id": "ly6dYc0aMeQh",
        "outputId": "3f93edff-009e-4d92-ee6b-4a4ac3038826"
      },
      "outputs": [
        {
          "output_type": "execute_result",
          "data": {
            "text/plain": [
              "1"
            ]
          },
          "metadata": {},
          "execution_count": 1
        }
      ],
      "source": [
        "def isPrime(n: int) -> int:\n",
        "    for i in range(2,n):\n",
        "      if n%i==0:\n",
        "        return 0\n",
        "    return 1\n",
        "\n",
        "\n",
        "isPrime(17)"
      ]
    },
    {
      "cell_type": "markdown",
      "metadata": {
        "id": "5b--2KZlMeQh"
      },
      "source": [
        "# List Comprehensions\n",
        "Es gibt eine spezielle Syntax für List Comprehensions (die Sie vielleicht aus Haskell kennen)."
      ]
    },
    {
      "cell_type": "code",
      "execution_count": null,
      "metadata": {
        "colab": {
          "base_uri": "https://localhost:8080/"
        },
        "id": "BXblRiNzMeQh",
        "outputId": "de67c719-ef83-447c-f4e4-afc8d06f02ec"
      },
      "outputs": [
        {
          "output_type": "stream",
          "name": "stdout",
          "text": [
            "[3, 6, 9, 12, 15, 18, 21, 24, 27, 30, 33, 36, 39, 42, 45, 48, 51, 54, 57, 60, 63, 66, 69, 72, 75, 78, 81, 84, 87, 90, 93, 96, 99]\n",
            "[3, 6, 9, 12, 15, 18, 21, 24, 27, 30, 33, 36, 39, 42, 45, 48, 51, 54, 57, 60, 63, 66, 69, 72, 75, 78, 81, 84, 87, 90, 93, 96, 99]\n"
          ]
        }
      ],
      "source": [
        "evens1 = []\n",
        "for x in range(3,100):\n",
        "    if x%3 == 0:\n",
        "        evens1.append(x)\n",
        "print(evens1)\n",
        "\n",
        "# List of all multiples of 3 that are <100:\n",
        "evens2 = [x for x in range(3,100) if x%3==0]\n",
        "print(evens2)"
      ]
    },
    {
      "cell_type": "markdown",
      "metadata": {
        "id": "MZkl18FzMeQh"
      },
      "source": [
        "Aufgabe: Erstellen Sie mit Hilfe eines List Comprehension eine Liste aller Primzahlen < 1000."
      ]
    },
    {
      "cell_type": "code",
      "execution_count": 2,
      "metadata": {
        "colab": {
          "base_uri": "https://localhost:8080/"
        },
        "id": "qMy2wKUWMeQi",
        "outputId": "3d920d00-032a-487f-b386-c8339069f37d"
      },
      "outputs": [
        {
          "output_type": "stream",
          "name": "stdout",
          "text": [
            "[1, 2, 3, 5, 7, 11, 13, 17, 19, 23, 29, 31, 37, 41, 43, 47, 53, 59, 61, 67, 71, 73, 79, 83, 89, 97]\n"
          ]
        }
      ],
      "source": [
        "primes = [x for x in range(1,101) if isPrime(x)]\n",
        "print(primes)"
      ]
    },
    {
      "cell_type": "markdown",
      "metadata": {
        "id": "Y7vidQ4hMeQi"
      },
      "source": [
        "# Numpy\n",
        "Numpy ist ein sehr beliebtes Python-Paket, das die Arbeit mit numerischen Arrays erleichtert. Es ist die Grundlage für vieles, was Sie in diesem Kurs sehen werden."
      ]
    },
    {
      "cell_type": "markdown",
      "metadata": {
        "id": "uRey2rPPMeQi"
      },
      "source": [
        "## Importieren von Modulen/Paketen\n",
        "\n",
        "Um mit numerischen Arrays arbeiten zu können, importieren wir das Paket [NumPy](http://www.numpy.org)."
      ]
    },
    {
      "cell_type": "code",
      "execution_count": 3,
      "metadata": {
        "tags": [],
        "id": "e9vcW5uhMeQi"
      },
      "outputs": [],
      "source": [
        "import numpy as np"
      ]
    },
    {
      "cell_type": "markdown",
      "metadata": {
        "id": "NJkkFZBvMeQi"
      },
      "source": [
        "Jetzt können wir alle NumPy-Funktionen verwenden (durch Voranstellen von \"`np.`\")."
      ]
    },
    {
      "cell_type": "code",
      "execution_count": 4,
      "metadata": {
        "id": "cPU0XJZlMeQi",
        "outputId": "748a1946-4232-4391-f4a2-a15499dfdc96",
        "colab": {
          "base_uri": "https://localhost:8080/"
        }
      },
      "outputs": [
        {
          "output_type": "execute_result",
          "data": {
            "text/plain": [
              "array([0., 0., 0., ..., 0., 0., 0.])"
            ]
          },
          "metadata": {},
          "execution_count": 4
        }
      ],
      "source": [
        "np.zeros(10000)"
      ]
    },
    {
      "cell_type": "markdown",
      "metadata": {
        "id": "zokcQVKjMeQi"
      },
      "source": [
        "## Tabulatorvervollständigung\n",
        "\n",
        "*Übung:* Tippen Sie \"`np.ze`\" (ohne Anführungszeichen) und drücken Sie dann die *Tab*-Taste ..."
      ]
    },
    {
      "cell_type": "code",
      "execution_count": null,
      "metadata": {
        "id": "hv9UpONnMeQi"
      },
      "outputs": [],
      "source": []
    },
    {
      "cell_type": "markdown",
      "metadata": {
        "id": "B9vpeTSsMeQi"
      },
      "source": [
        "## Array, Vektor, Matrix\n",
        "\n",
        "Arrays können beliebig viele Dimensionen haben, aber lassen Sie uns für den Moment nur eindimensionale Arrays verwenden.\n",
        "Arrays können mit [numpy.array()](http://docs.scipy.org/doc/numpy/reference/generated/numpy.array.html) erstellt werden:"
      ]
    },
    {
      "cell_type": "code",
      "execution_count": 5,
      "metadata": {
        "id": "Dgdp4IFkMeQj"
      },
      "outputs": [],
      "source": [
        "a = np.array([0, 1, 2, 3, 4, 5, 6, 7, 8, 9])"
      ]
    },
    {
      "cell_type": "markdown",
      "metadata": {
        "id": "7ntqSIKZMeQj"
      },
      "source": [
        "Beachten Sie, dass das Ergebnis nicht angezeigt wird, wenn Sie einer Variablen einen Wert zuweisen (da die Zuweisung eine *Anweisung* und kein *Ausdruck* ist).\n",
        "Um die Daten anzuzeigen, schreiben Sie den Variablennamen separat in die letzte (oder einzige) Zeile einer Codezelle."
      ]
    },
    {
      "cell_type": "code",
      "execution_count": 6,
      "metadata": {
        "id": "U4MglGNDMeQj",
        "outputId": "a7c703b6-e99e-4695-9a3b-c6dfff8aef13",
        "colab": {
          "base_uri": "https://localhost:8080/"
        }
      },
      "outputs": [
        {
          "output_type": "execute_result",
          "data": {
            "text/plain": [
              "array([0, 1, 2, 3, 4, 5, 6, 7, 8, 9])"
            ]
          },
          "metadata": {},
          "execution_count": 6
        }
      ],
      "source": [
        "a"
      ]
    },
    {
      "cell_type": "markdown",
      "metadata": {
        "id": "REKGWMx7MeQj"
      },
      "source": [
        "Übrigens gibt es einen einfacheren Weg, dieses spezielle Array zu erhalten (mit [numpy.arange()](http://docs.scipy.org/doc/numpy/reference/generated/numpy.arange.html)):"
      ]
    },
    {
      "cell_type": "code",
      "execution_count": 11,
      "metadata": {
        "id": "CHT7pQUEMeQj",
        "outputId": "4cd7ac20-9b1b-47e1-8a9a-24a5fd67bd11",
        "colab": {
          "base_uri": "https://localhost:8080/"
        }
      },
      "outputs": [
        {
          "output_type": "execute_result",
          "data": {
            "text/plain": [
              "array([1, 2, 3, 4, 5, 6, 7, 8, 9])"
            ]
          },
          "metadata": {},
          "execution_count": 11
        }
      ],
      "source": [
        "b = np.arange(1,10)\n",
        "b"
      ]
    },
    {
      "cell_type": "markdown",
      "metadata": {
        "id": "rtfxCrI9MeQj"
      },
      "source": [
        "## Hilfe erhalten\n",
        "\n",
        "Wenn Sie Einzelheiten über die Verwendung von `np.arange()` und alle unterstützten Argumente wissen wollen, werfen Sie einen Blick in den Hilfetext.\n",
        "Hängen Sie einfach ein Fragezeichen an den Funktionsnamen (ohne Klammern!):"
      ]
    },
    {
      "cell_type": "code",
      "execution_count": null,
      "metadata": {
        "id": "QnFe-utnMeQj"
      },
      "outputs": [],
      "source": [
        "np.arange?"
      ]
    },
    {
      "cell_type": "markdown",
      "metadata": {
        "id": "_ZhmRH-EMeQj"
      },
      "source": [
        "Im unteren Teil des Browserfensters sollte sich ein Hilfefenster öffnen.\n",
        "Dieses Fenster kann durch Drücken der Taste *q* (wie \"quit\") geschlossen werden.\n",
        "\n",
        "Holen wir uns mehr Hilfe:"
      ]
    },
    {
      "cell_type": "code",
      "execution_count": null,
      "metadata": {
        "id": "Ma30VP97MeQj"
      },
      "outputs": [],
      "source": [
        "np.zeros?"
      ]
    },
    {
      "cell_type": "markdown",
      "metadata": {
        "id": "FKYifjXIMeQk"
      },
      "source": [
        "Sie können auch Hilfe für das gesamte NumPy-Paket erhalten:"
      ]
    },
    {
      "cell_type": "code",
      "execution_count": null,
      "metadata": {
        "id": "EWoqrlKoMeQk"
      },
      "outputs": [],
      "source": [
        "np?"
      ]
    },
    {
      "cell_type": "markdown",
      "metadata": {
        "id": "RlP3Tyl4MeQk"
      },
      "source": [
        "Sie können für jedes Objekt Hilfe erhalten, indem Sie ein Fragezeichen an den Namen des Objekts anhängen (oder voranstellen).\n",
        "Schauen wir uns an, was das Hilfesystem uns über unsere Variable `a` sagen kann:"
      ]
    },
    {
      "cell_type": "code",
      "execution_count": null,
      "metadata": {
        "id": "7chgucsnMeQk"
      },
      "outputs": [],
      "source": [
        "a?"
      ]
    },
    {
      "cell_type": "markdown",
      "metadata": {
        "id": "xdWY7f70MeQk"
      },
      "source": [
        "Das Hilfesystem kann bei der Lösung der folgenden Aufgaben sehr nützlich sein ..."
      ]
    },
    {
      "cell_type": "markdown",
      "metadata": {
        "id": "vTm1MRrSMeQk"
      },
      "source": [
        "## `np.arange()`\n",
        "\n",
        "Wir werden oft Sequenzen von gleichmäßig verteilten Zahlen brauchen, also lasst uns welche erstellen.\n",
        "\n",
        "*Übung:* Erzeugen Sie eine Zahlenfolge mit `np.arange()`, beginnend mit 0 und bis (aber nicht einschließlich) 6 mit einer Schrittweite von 1."
      ]
    },
    {
      "cell_type": "code",
      "execution_count": null,
      "metadata": {
        "id": "d5jMM-qjMeQk"
      },
      "outputs": [],
      "source": [
        "'Implement me!'"
      ]
    },
    {
      "cell_type": "markdown",
      "metadata": {
        "id": "7mECeCosMeQk"
      },
      "source": [
        "*Übung:* Erzeugen Sie eine Zahlenfolge mit `np.arange()`, beginnend mit 0 und bis (aber nicht einschließlich) 0,6 mit einer Schrittweite von 0,1."
      ]
    },
    {
      "cell_type": "code",
      "execution_count": 16,
      "metadata": {
        "id": "VELOd3gXMeQk",
        "outputId": "87c9aff4-ae21-4aa9-e889-2c26658ff212",
        "colab": {
          "base_uri": "https://localhost:8080/"
        }
      },
      "outputs": [
        {
          "output_type": "execute_result",
          "data": {
            "text/plain": [
              "array([0. , 0.1, 0.2, 0.3, 0.4, 0.5])"
            ]
          },
          "metadata": {},
          "execution_count": 16
        }
      ],
      "source": [
        "a=np.arange(0,0.6,0.1)\n",
        "a"
      ]
    },
    {
      "cell_type": "markdown",
      "metadata": {
        "id": "8BRxVqIVMeQl"
      },
      "source": [
        "*Übung:* Erzeugen Sie eine Zahlenfolge mit `np.arange()`, beginnend mit 0,5 bis (aber nicht einschließlich) 1,1 mit einer Schrittweite von 0,1."
      ]
    },
    {
      "cell_type": "code",
      "execution_count": 18,
      "metadata": {
        "id": "HjFfqDvbMeQl",
        "outputId": "84933c56-faa5-4f13-a7a1-7288a5719b7b",
        "colab": {
          "base_uri": "https://localhost:8080/"
        }
      },
      "outputs": [
        {
          "output_type": "execute_result",
          "data": {
            "text/plain": [
              "array([0.5, 0.6, 0.7, 0.8, 0.9, 1. , 1.1])"
            ]
          },
          "metadata": {},
          "execution_count": 18
        }
      ],
      "source": [
        "a=np.arange(0.5,1.1,0.1)\n",
        "a"
      ]
    },
    {
      "cell_type": "markdown",
      "metadata": {
        "id": "CI4VDDrcMeQl"
      },
      "source": [
        "Die vorherige Übung ist etwas knifflig.\n",
        "Wenn Sie es richtig gemacht haben, schauen Sie unter [arange considered harmful](http://nbviewer.ipython.org/github/mgeier/python-audio/blob/master/misc/arange.ipynb) nach, was Sie falsch gemacht haben *könnten*.\n",
        "Wenn Sie ein unerwartetes Ergebnis erhalten haben, schauen Sie unter [arange considered harmful](http://nbviewer.ipython.org/github/mgeier/python-audio/blob/master/misc/arange.ipynb) nach einer Erklärung.\n",
        "\n",
        "*Übung:* Können Sie das Problem beheben?"
      ]
    },
    {
      "cell_type": "code",
      "execution_count": 21,
      "metadata": {
        "id": "8Owb_KPWMeQl",
        "outputId": "3ef5cb1f-f737-45ab-8e07-254e496446bc",
        "colab": {
          "base_uri": "https://localhost:8080/"
        }
      },
      "outputs": [
        {
          "output_type": "execute_result",
          "data": {
            "text/plain": [
              "array([0.5, 0.6, 0.7, 0.8, 0.9, 1. ])"
            ]
          },
          "metadata": {},
          "execution_count": 21
        }
      ],
      "source": [
        "a=np.arange(0.5,1.09,0.1)\n",
        "a"
      ]
    },
    {
      "cell_type": "markdown",
      "metadata": {
        "id": "C8SwXSPgMeQl"
      },
      "source": [
        "Was lernen wir aus all dem?\n",
        "$\\Rightarrow$\n",
        "`np.arange()` ist großartig, aber verwenden Sie es nur mit ganzzahligen Schrittweiten!"
      ]
    },
    {
      "cell_type": "markdown",
      "metadata": {
        "id": "ixbYz3J0MeQl"
      },
      "source": [
        "## `np.linspace()`\n",
        "\n",
        "Eine andere, etwas andere Methode, um eine Folge von Zahlen mit gleichmäßigen Abständen zu erzeugen, ist [numpy.linspace()](http://docs.scipy.org/doc/numpy/reference/generated/numpy.linspace.html).\n",
        "Werfen Sie einen Blick in die Dokumentation."
      ]
    },
    {
      "cell_type": "code",
      "execution_count": 22,
      "metadata": {
        "id": "r-Qcl-cRMeQl"
      },
      "outputs": [],
      "source": [
        "np.linspace?"
      ]
    },
    {
      "cell_type": "markdown",
      "metadata": {
        "id": "cq5tcCGWMeQl"
      },
      "source": [
        "*Übung:* Erzeugen Sie eine Zahlenfolge mit `np.linspace()`, beginnend mit 0 und bis (einschließlich) 6 mit einer Schrittweite von 1."
      ]
    },
    {
      "cell_type": "code",
      "execution_count": 32,
      "metadata": {
        "id": "Gp2WtEjUMeQl",
        "outputId": "418454a7-0280-4644-b3a6-e550c72c1f56",
        "colab": {
          "base_uri": "https://localhost:8080/"
        }
      },
      "outputs": [
        {
          "output_type": "execute_result",
          "data": {
            "text/plain": [
              "array([0., 1., 2., 3., 4., 5., 6.])"
            ]
          },
          "metadata": {},
          "execution_count": 32
        }
      ],
      "source": [
        "a=np.linspace(0, 6, 7)\n",
        "a"
      ]
    },
    {
      "cell_type": "markdown",
      "metadata": {
        "id": "MFNNrZQPMeQm"
      },
      "source": [
        "Beachten Sie, dass das resultierende Array einen *Gleitkomma*-Datentyp hat, auch wenn alle Eingaben (und die Schrittweite) Ganzzahlen sind.\n",
        "Dies ist bei `np.arange()` nicht der Fall.\n",
        "\n",
        "*Übung:* Erzeugen Sie mit `np.linspace()` eine Folge von Zahlen, beginnend mit 0 und bis (aber nicht einschließlich) 6 mit einer Schrittweite von 1."
      ]
    },
    {
      "cell_type": "code",
      "execution_count": 48,
      "metadata": {
        "id": "eqWpuqijMeQm",
        "outputId": "d56da3d5-87a0-41db-b412-1de438cb1a60",
        "colab": {
          "base_uri": "https://localhost:8080/"
        }
      },
      "outputs": [
        {
          "output_type": "execute_result",
          "data": {
            "text/plain": [
              "array([0., 1., 2., 3., 4., 5.])"
            ]
          },
          "metadata": {},
          "execution_count": 48
        }
      ],
      "source": [
        "a=np.linspace(0, 6, 6, endpoint=False)\n",
        "a"
      ]
    },
    {
      "cell_type": "markdown",
      "metadata": {
        "id": "jpQSXoq8MeQm"
      },
      "source": [
        "*Übung:* Erzeugen Sie eine Zahlenfolge mit `np.linspace()`, beginnend mit 0 und bis (aber nicht einschließlich) 0,6 mit einer Schrittweite von 0,1."
      ]
    },
    {
      "cell_type": "code",
      "execution_count": 49,
      "metadata": {
        "id": "Y759zff4MeQm",
        "outputId": "1f880670-eed7-4aae-d130-589276fd6f17",
        "colab": {
          "base_uri": "https://localhost:8080/"
        }
      },
      "outputs": [
        {
          "output_type": "execute_result",
          "data": {
            "text/plain": [
              "array([0. , 0.1, 0.2, 0.3, 0.4, 0.5])"
            ]
          },
          "metadata": {},
          "execution_count": 49
        }
      ],
      "source": [
        "a=np.linspace(0, 0.6, 6, endpoint=False)\n",
        "a"
      ]
    },
    {
      "cell_type": "markdown",
      "metadata": {
        "id": "dJ57AfK5MeQm"
      },
      "source": [
        "*Übung:* Erzeugen Sie eine Zahlenfolge mit `np.linspace()`, beginnend mit 0,5 und bis zu (aber nicht einschließlich) 1,1 mit einer Schrittweite von 0,1."
      ]
    },
    {
      "cell_type": "code",
      "execution_count": 50,
      "metadata": {
        "id": "DUsznmw1MeQm",
        "outputId": "7a3119ce-b0f4-4d28-c5db-217e08c178d6",
        "colab": {
          "base_uri": "https://localhost:8080/"
        }
      },
      "outputs": [
        {
          "output_type": "execute_result",
          "data": {
            "text/plain": [
              "array([0.5, 0.6, 0.7, 0.8, 0.9, 1. ])"
            ]
          },
          "metadata": {},
          "execution_count": 50
        }
      ],
      "source": [
        "a=np.linspace(0.5, 1.1, 6, endpoint=False)\n",
        "a"
      ]
    },
    {
      "cell_type": "markdown",
      "metadata": {
        "id": "Xpk7Y-gsMeQm"
      },
      "source": [
        "Beachten Sie, dass `np.linspace()` nicht das oben erwähnte Problem hat, das wir mit `np.arange()` hatten."
      ]
    },
    {
      "cell_type": "markdown",
      "metadata": {
        "id": "uKm3fEvSMeQm"
      },
      "source": [
        "## Erstellen einer Sinuswelle\n",
        "\n",
        "Erstellen wir nun ein interessanteres Array, das ein digitales Sinussignal darstellt. Das Signal folgt der Gleichung $y(t) = A\\sin(\\omega t)$ mit $\\omega = 2\\pi f$ und $f$ ist die Frequenz des Sinus.\n",
        "Die maximale Signalamplitude ist durch $A$ gegeben.\n",
        "Die Variable $t$ steht natürlich für die Zeit.\n",
        "Wir wollen ein digitales Signal mit gleichmäßig verteilten Werten für $t$ erzeugen.\n",
        "\n",
        "Wir können die Funktion [numpy.sin()](http://docs.scipy.org/doc/numpy/reference/generated/numpy.sin.html) verwenden, um einen Sinuston zu erzeugen. Schauen wir uns zunächst den Hilfetext an."
      ]
    },
    {
      "cell_type": "code",
      "execution_count": 51,
      "metadata": {
        "id": "1FwkYNOKMeQm"
      },
      "outputs": [],
      "source": [
        "np.sin?"
      ]
    },
    {
      "cell_type": "markdown",
      "metadata": {
        "id": "lT3Y7EJMMeQn"
      },
      "source": [
        "Da wir nun wissen, welche Funktion wir aufrufen müssen, brauchen wir eine geeignete Eingabe.\n",
        "Und hier kommen unsere Sequenzen von gleichmäßig verteilten Werten von oben ins Spiel.\n",
        "\n",
        "Das Schöne an NumPy-Funktionen wie `np.sin()` ist, dass sie auf ganze Arrays auf einmal wirken können, so dass es nicht notwendig ist, die Funktion für jeden einzelnen Wert separat aufzurufen.\n",
        "Daher können wir den gesamten Wertebereich für unsere Zeitvariable $t$ in einem Array speichern.\n",
        "\n",
        "Gemäß der Gleichung muss jeder Wert von $t$ mit (der Konstante) $\\omega$ multipliziert werden.\n",
        "Das ist eine weitere nette Sache an NumPy: wir müssen nicht jeden Wert des Arrays $t$ einzeln mit $\\omega$ multiplizieren, wir können das ganze Array auf einmal mit einem Skalar multiplizieren, und NumPy übernimmt die elementweise Multiplikation für uns.\n",
        "Dies wird [\"broadcasting\"](http://docs.scipy.org/doc/numpy/user/basics.broadcasting.html) genannt, falls Sie über dieses Wort in der Dokumentation stolpern.\n",
        "Das Array, das von `np.sin()` zurückgegeben wird, kann (wiederum mittels Broadcasting) mit dem konstanten Skalar $A$ multipliziert werden, um das Endergebnis zu erhalten.\n",
        "\n",
        "Das einzige, was noch fehlt, ist $\\pi$, aber das ist einfach:"
      ]
    },
    {
      "cell_type": "code",
      "execution_count": 52,
      "metadata": {
        "id": "Kfu4qU4HMeQn",
        "outputId": "1abd33a7-f570-4f44-a9a8-32c4b8fdc4f8",
        "colab": {
          "base_uri": "https://localhost:8080/"
        }
      },
      "outputs": [
        {
          "output_type": "execute_result",
          "data": {
            "text/plain": [
              "3.141592653589793"
            ]
          },
          "metadata": {},
          "execution_count": 52
        }
      ],
      "source": [
        "np.pi"
      ]
    },
    {
      "cell_type": "markdown",
      "metadata": {
        "id": "FC5Lf1DRMeQn"
      },
      "source": [
        "Nun wollen wir eine Sinuswelle mit einer Frequenz von 2 Hz, einer Dauer von 1 Sekunde und einer Amplitude von 0,3 erzeugen.\n",
        "Wir verwenden eine Abtastrate von 44,1 kHz."
      ]
    },
    {
      "cell_type": "code",
      "execution_count": null,
      "metadata": {
        "tags": [],
        "id": "ip_xvXxvMeQn"
      },
      "outputs": [],
      "source": [
        "dur = 1  # duration in seconds\n",
        "amp = 0.3  # maximum amplitude\n",
        "freq = 2  # frequency of the sine tone in Hertz\n",
        "fs = 44100  # sampling frequency in Hertz\n",
        "\n",
        "t = np.arange(np.ceil(dur * fs)) / fs\n",
        "y = amp * np.sin(2 * np.pi * freq * t)"
      ]
    },
    {
      "cell_type": "markdown",
      "metadata": {
        "id": "jc1DBp_4MeQn"
      },
      "source": [
        "## Plotten\n",
        "\n",
        "Python und NumPy können nicht selbst plotten, sie benötigen die Hilfe von [matplotlib](http://matplotlib.org/)."
      ]
    },
    {
      "cell_type": "code",
      "execution_count": null,
      "metadata": {
        "id": "5-nAdAdPMeQn"
      },
      "outputs": [],
      "source": [
        "import matplotlib.pyplot as plt\n",
        "%matplotlib inline"
      ]
    },
    {
      "cell_type": "markdown",
      "metadata": {
        "id": "ReqZBpWmMeQn"
      },
      "source": [
        "Jetzt können wir die Daten aus unserem Array aufzeichnen:"
      ]
    },
    {
      "cell_type": "code",
      "execution_count": null,
      "metadata": {
        "id": "JLdrR9mxMeQn"
      },
      "outputs": [],
      "source": [
        "plt.plot(y)"
      ]
    },
    {
      "cell_type": "markdown",
      "metadata": {
        "id": "DFQfrE67MeQn"
      },
      "source": [
        "Wie immer, für weitere Informationen:"
      ]
    },
    {
      "cell_type": "code",
      "execution_count": null,
      "metadata": {
        "id": "ZlZyQf8GMeQn"
      },
      "outputs": [],
      "source": [
        "%matplotlib?"
      ]
    },
    {
      "cell_type": "markdown",
      "metadata": {
        "id": "gkHo-PXZMeQo"
      },
      "source": [
        "## Verändern des Plots\n",
        "\n",
        "Schauen wir uns noch einmal unseren Plot an."
      ]
    },
    {
      "cell_type": "code",
      "execution_count": null,
      "metadata": {
        "id": "y4mdFm3yMeQo"
      },
      "outputs": [],
      "source": [
        "plt.plot(y);"
      ]
    },
    {
      "cell_type": "markdown",
      "metadata": {
        "id": "VFNsqLvEMeQo"
      },
      "source": [
        "Da wir nur ein einziges Array an die Funktion `plot()` übergeben haben, zeigt die x-Achse den Sample-Index von 0 bis zur Länge des Signals in Samples (minus eins).\n",
        "Es könnte sinnvoller sein, die Zeit in Sekunden anzugeben.\n",
        "\n",
        "Aber lassen Sie uns zuerst die vorherige Darstellung schließen."
      ]
    },
    {
      "cell_type": "code",
      "execution_count": null,
      "metadata": {
        "id": "mI8XNaVVMeQo"
      },
      "outputs": [],
      "source": [
        "plt.close()"
      ]
    },
    {
      "cell_type": "markdown",
      "metadata": {
        "id": "uUvuXLLpMeQo"
      },
      "source": [
        "Wenn wir zwei Arrays an die Funktion `plot()` übergeben, definiert das erste die Zuordnung von Stichprobenindizes zu den tatsächlichen Werten, die auf der x-Achse angezeigt werden, das zweite gibt die entsprechenden y-Werte an."
      ]
    },
    {
      "cell_type": "code",
      "execution_count": null,
      "metadata": {
        "id": "48sS_8SjMeQo"
      },
      "outputs": [],
      "source": [
        "plt.plot(t, y);"
      ]
    },
    {
      "cell_type": "markdown",
      "metadata": {
        "id": "7dQcHZpCMeQo"
      },
      "source": [
        "Gut, jetzt zeigt die x-Achse die Zeit in Sekunden an.\n",
        "Lassen Sie uns Achsenbeschriftungen erstellen, damit jeder Bescheid weiß."
      ]
    },
    {
      "cell_type": "code",
      "execution_count": null,
      "metadata": {
        "id": "hAvDIdJBMeQo"
      },
      "outputs": [],
      "source": [
        "plt.plot(t, y)\n",
        "plt.xlabel(\"Time / Seconds\")\n",
        "plt.ylabel(\"Amplitude\")\n",
        "plt.title(\"Sine Tone with {} Hz\".format(freq));"
      ]
    },
    {
      "cell_type": "markdown",
      "metadata": {
        "id": "qwK4vvkwMeQo"
      },
      "source": [
        "Weitere Informationen finden Sie unter [Getting Started With `matplotlib`](http://nbviewer.ipython.org/github/mgeier/python-audio/blob/master/plotting/matplotlib.ipynb)."
      ]
    },
    {
      "cell_type": "markdown",
      "metadata": {
        "id": "-z-zeM4zMeQo"
      },
      "source": [
        "## Zweidimensionale Arrays\n",
        "\n",
        "Zweidimensionale Arrays sehen ein wenig aus wie Listen von Listen, aber intern werden sie immer noch in einem zusammenhängenden Speicherbereich gespeichert.\n",
        "\n",
        "Es gibt mehrere Funktionen zur Erstellung von Arrays, mit denen die Anzahl der Zeilen und Spalten angegeben werden kann, z. B. [numpy.zeros()](http://docs.scipy.org/doc/numpy/reference/generated/numpy.zeros.html) und [numpy.ones()](http://docs.scipy.org/doc/numpy/reference/generated/numpy.ones.html)."
      ]
    },
    {
      "cell_type": "code",
      "execution_count": null,
      "metadata": {
        "id": "KIfjdagMMeQp"
      },
      "outputs": [],
      "source": [
        "np.zeros((4, 2))"
      ]
    },
    {
      "cell_type": "code",
      "execution_count": null,
      "metadata": {
        "id": "m53grVAbMeQp"
      },
      "outputs": [],
      "source": [
        "np.ones((4, 2))"
      ]
    },
    {
      "cell_type": "markdown",
      "metadata": {
        "id": "iYUCEvMWMeQp"
      },
      "source": [
        "Arrays können auch aus Listen von Listen (auch bekannt als *verschachtelte* Listen) mit [numpy.array()](http://docs.scipy.org/doc/numpy/reference/generated/numpy.array.html) erstellt werden:"
      ]
    },
    {
      "cell_type": "code",
      "execution_count": null,
      "metadata": {
        "id": "qpVQpMn-MeQp"
      },
      "outputs": [],
      "source": [
        "np.array([[.1, .2], [.3, .4], [.5, .6], [.7, .8]])"
      ]
    },
    {
      "cell_type": "markdown",
      "metadata": {
        "id": "BDLiZNSfMeQp"
      },
      "source": [
        "Beachten Sie, dass die inneren Listen die einzelnen Zeilen des Arrays liefern.\n",
        "\n",
        "Zweidimensionale Arrays können auch durch spaltenweises Verketten einer Liste von eindimensionalen Arrays (oder Listen) mit [numpy.column_stack()](http://docs.scipy.org/doc/numpy/reference/generated/numpy.column_stack.html) erstellt werden:"
      ]
    },
    {
      "cell_type": "code",
      "execution_count": null,
      "metadata": {
        "tags": [],
        "id": "lb2QxGNYMeQp"
      },
      "outputs": [],
      "source": [
        "a = np.column_stack([[.1, .2, .3, .4], [.5, .6, .7, .8]])\n",
        "a"
      ]
    },
    {
      "cell_type": "markdown",
      "metadata": {
        "id": "2cbJKT8mMeQp"
      },
      "source": [
        "Wenn Sie Zeilen und Spalten umdrehen wollen, können Sie das Array transponieren:"
      ]
    },
    {
      "cell_type": "code",
      "execution_count": null,
      "metadata": {
        "tags": [],
        "id": "LW6vYS6uMeQp"
      },
      "outputs": [],
      "source": [
        "a.T\n"
      ]
    },
    {
      "cell_type": "markdown",
      "metadata": {
        "id": "8MkHuvk8MeQp"
      },
      "source": [
        "Das transponierte Array ist *nicht* eine Kopie des ursprünglichen Arrays, es ist vielmehr eine andere *Sicht* auf denselben Speicher.\n",
        "Das heißt, wenn Sie ein Element des transponierten Arrays ändern, wird diese Änderung auch im ursprünglichen Array sichtbar!"
      ]
    },
    {
      "cell_type": "code",
      "execution_count": null,
      "metadata": {
        "id": "f_Glcm65MeQq"
      },
      "outputs": [],
      "source": [
        "b[1, 2] = 0\n",
        "a"
      ]
    },
    {
      "cell_type": "markdown",
      "metadata": {
        "id": "tculVLkzMeQq"
      },
      "source": [
        "## Array-Eigenschaften\n",
        "\n",
        "Lassen Sie uns ein zweidimensionales Array erstellen:"
      ]
    },
    {
      "cell_type": "code",
      "execution_count": null,
      "metadata": {
        "tags": [],
        "id": "1EtQbuyJMeQq"
      },
      "outputs": [],
      "source": [
        "x = np.random.normal(scale=0.2, size=(int(1.5 * fs), 2))\n",
        "x"
      ]
    },
    {
      "cell_type": "markdown",
      "metadata": {
        "id": "OlHV_l5VMeQq"
      },
      "source": [
        "*Übung:* Probieren Sie diese verschiedenen Möglichkeiten aus, um die Größe des Feldes zu erhalten:"
      ]
    },
    {
      "cell_type": "code",
      "execution_count": null,
      "metadata": {
        "tags": [],
        "id": "bzy6f1AcMeQq"
      },
      "outputs": [],
      "source": [
        "len(a)"
      ]
    },
    {
      "cell_type": "code",
      "execution_count": null,
      "metadata": {
        "tags": [],
        "id": "_bkyptzEMeQq"
      },
      "outputs": [],
      "source": [
        "a.shape"
      ]
    },
    {
      "cell_type": "code",
      "execution_count": null,
      "metadata": {
        "tags": [],
        "id": "mJ8pvthYMeQq"
      },
      "outputs": [],
      "source": [
        "a.size"
      ]
    },
    {
      "cell_type": "code",
      "execution_count": null,
      "metadata": {
        "tags": [],
        "id": "uue8PskXMeQq"
      },
      "outputs": [],
      "source": [
        "a.nbytes"
      ]
    },
    {
      "cell_type": "markdown",
      "metadata": {
        "id": "jRCKprVNMeQq"
      },
      "source": [
        "*Übung:* Es gibt noch viel mehr Informationen über das Array, probiere die folgenden Befehle aus und finde heraus, was sie bedeuten."
      ]
    },
    {
      "cell_type": "code",
      "execution_count": null,
      "metadata": {
        "id": "dBLKLOL4MeQq"
      },
      "outputs": [],
      "source": [
        "x.ndim"
      ]
    },
    {
      "cell_type": "code",
      "execution_count": null,
      "metadata": {
        "id": "beL4dQ3eMeQr"
      },
      "outputs": [],
      "source": [
        "x.dtype"
      ]
    },
    {
      "cell_type": "code",
      "execution_count": null,
      "metadata": {
        "id": "EUF5WzGoMeQr"
      },
      "outputs": [],
      "source": [
        "x.itemsize"
      ]
    },
    {
      "cell_type": "code",
      "execution_count": null,
      "metadata": {
        "id": "EW_0FnKxMeQr"
      },
      "outputs": [],
      "source": [
        "x.strides"
      ]
    },
    {
      "cell_type": "code",
      "execution_count": null,
      "metadata": {
        "id": "z7Ikwj1SMeQr"
      },
      "outputs": [],
      "source": [
        "x.flags"
      ]
    },
    {
      "cell_type": "markdown",
      "metadata": {
        "id": "PYPeSPW0MeQr"
      },
      "source": [
        "*Übung:*\n",
        "Sie können auch einige statistische Werte über die Daten im Array erhalten.\n",
        "Prüfen Sie, ob sie mit dem gegebenen normalverteilten Rauschsignal übereinstimmen."
      ]
    },
    {
      "cell_type": "code",
      "execution_count": null,
      "metadata": {
        "id": "QQZpDDF2MeQr"
      },
      "outputs": [],
      "source": [
        "x.max()"
      ]
    },
    {
      "cell_type": "code",
      "execution_count": null,
      "metadata": {
        "id": "0PNEG3CrMeQr"
      },
      "outputs": [],
      "source": [
        "x.min()"
      ]
    },
    {
      "cell_type": "code",
      "execution_count": null,
      "metadata": {
        "id": "29h3bToPMeQs"
      },
      "outputs": [],
      "source": [
        "x.ptp()"
      ]
    },
    {
      "cell_type": "code",
      "execution_count": null,
      "metadata": {
        "id": "ODubhbyCMeQs"
      },
      "outputs": [],
      "source": [
        "x.mean()"
      ]
    },
    {
      "cell_type": "code",
      "execution_count": null,
      "metadata": {
        "id": "a_iMbXg7MeQs"
      },
      "outputs": [],
      "source": [
        "x.std()"
      ]
    },
    {
      "cell_type": "code",
      "execution_count": null,
      "metadata": {
        "id": "0JoYeBeXMeQs"
      },
      "outputs": [],
      "source": [
        "x.var()"
      ]
    },
    {
      "cell_type": "markdown",
      "metadata": {
        "id": "F14qhTvzMeQs"
      },
      "source": [
        "Die meisten dieser *Methoden* existieren auch als *Funktionen*, z.B."
      ]
    },
    {
      "cell_type": "code",
      "execution_count": null,
      "metadata": {
        "id": "zMI6MzdsMeQs"
      },
      "outputs": [],
      "source": [
        "np.max(x)"
      ]
    },
    {
      "cell_type": "markdown",
      "metadata": {
        "id": "WHy2pjAfMeQs"
      },
      "source": [
        "Sowohl die Funktionen als auch die Methoden haben ein optionales Argument *Achse*.\n",
        "\n",
        "*Übung:* Versuchen Sie `axis=0` mit allen oben genannten Funktionen/Methoden."
      ]
    },
    {
      "cell_type": "code",
      "execution_count": null,
      "metadata": {
        "id": "gP9SiVQjMeQs"
      },
      "outputs": [],
      "source": [
        "x.std(axis=0)"
      ]
    },
    {
      "cell_type": "code",
      "execution_count": null,
      "metadata": {
        "id": "_6Qor87jMeQs"
      },
      "outputs": [],
      "source": [
        "np.mean(x, axis=0)"
      ]
    },
    {
      "cell_type": "markdown",
      "metadata": {
        "id": "sfW9tfkKMeQt"
      },
      "source": [
        "*Übung:* Was ist der Unterschied zwischen `axis=0` und `axis=1`?\n",
        "Was bedeutet `axis=-1`?"
      ]
    },
    {
      "cell_type": "code",
      "execution_count": null,
      "metadata": {
        "id": "KL00ExbNMeQt"
      },
      "outputs": [],
      "source": []
    },
    {
      "cell_type": "markdown",
      "metadata": {
        "id": "wgKgQb7vMeQt"
      },
      "source": [
        "## Broadcasting\n",
        "\n",
        "Wir haben bereits gesehen, dass wenn ein Skalar mit einem Array multipliziert wird, diese Multiplikation elementweise auf dem Array durchgeführt wird.\n",
        "Die NumPy-Leute nennen dies [broadcasting](http://docs.scipy.org/doc/numpy/user/basics.broadcasting.html).\n",
        "\n",
        "Das Tolle daran ist, dass es nicht auf Operationen zwischen einem Skalar und einem Array beschränkt ist, sondern auch zwischen Arrays unterschiedlicher Anzahl von Dimensionen.\n",
        "\n",
        "Nehmen wir zum Beispiel ein eindimensionales Array mit zwei Werten und multiplizieren es mit unserem zweidimensionalen Array `x` von vorhin:"
      ]
    },
    {
      "cell_type": "code",
      "execution_count": null,
      "metadata": {
        "id": "vIaEwNUMMeQt"
      },
      "outputs": [],
      "source": [
        "np.array([0.5, 100]) * x"
      ]
    },
    {
      "cell_type": "markdown",
      "metadata": {
        "id": "2qCRmB37MeQt"
      },
      "source": [
        "Obwohl diese beiden Arrays eindeutig eine unterschiedliche Form und eine unterschiedliche Anzahl von Dimensionen haben, hat die Multiplikation funktioniert.\n",
        "In diesem Fall wurde jedes Element der ersten Spalte von \"x\" mit dem ersten Wert der anderen Matrix multipliziert, und dasselbe gilt für die zweite Spalte und den zweiten Wert der Matrix.\n",
        "\n",
        "In diesem Beispiel hat das Ergebnis die gleiche Form wie einer der Operanden, und der andere Operand wurde entlang seiner einzigen (oder eher fehlenden) Dimension \"gestreckt\".\n",
        "\n",
        "Aber das muss nicht so sein.\n",
        "Erstellen wir ein zweidimensionales Array, das nur aus einer Spalte besteht:"
      ]
    },
    {
      "cell_type": "code",
      "execution_count": null,
      "metadata": {
        "id": "_vE_UrKcMeQt"
      },
      "outputs": [],
      "source": [
        "y = np.random.normal(scale=0.2, size=(int(1.5 * fs), 1))\n",
        "y"
      ]
    },
    {
      "cell_type": "code",
      "execution_count": null,
      "metadata": {
        "id": "avKBp4__MeQt"
      },
      "outputs": [],
      "source": [
        "y.shape"
      ]
    },
    {
      "cell_type": "markdown",
      "metadata": {
        "id": "zDAiiuMtMeQt"
      },
      "source": [
        "Wenn wir ein eindimensionales Array mit diesem zweidimensionalen Spaltenarray multiplizieren, hat keine der Dimensionen die gleiche Größe.\n",
        "Dennoch können wir sie multiplizieren und beide Felder werden \"gestreckt\" (entlang ihrer singulären/fehlenden Dimension), was zu einem Ergebnis führt, das eine größere Form hat als einer der Operanden:"
      ]
    },
    {
      "cell_type": "code",
      "execution_count": null,
      "metadata": {
        "id": "CdDVnezAMeQu"
      },
      "outputs": [],
      "source": [
        "np.array([0.5, 100]) * y"
      ]
    },
    {
      "cell_type": "markdown",
      "metadata": {
        "id": "_oIpif9BMeQu"
      },
      "source": [
        "Die linke Spalte des Ergebnisses ist \"y\" multipliziert mit dem ersten Element der eindimensionalen Matrix, die rechte Spalte ist das gleiche \"y\" multipliziert mit dem zweiten Element."
      ]
    },
    {
      "cell_type": "markdown",
      "metadata": {
        "id": "iq3bxtCxMeQu"
      },
      "source": [
        "<p xmlns:dct=\"http://purl.org/dc/terms/\">\n",
        "  <a rel=\"license\"\n",
        "     href=\"http://creativecommons.org/publicdomain/zero/1.0/\">\n",
        "    <img src=\"http://i.creativecommons.org/p/zero/1.0/88x31.png\" style=\"border-style: none;\" alt=\"CC0\" />\n",
        "  </a>\n",
        "  <br />\n",
        "  To the extent possible under law,\n",
        "  <span rel=\"dct:publisher\" resource=\"[_:publisher]\">the person who associated CC0</span>\n",
        "  with this work has waived all copyright and related or neighboring\n",
        "  rights to this work.\n",
        "</p>"
      ]
    }
  ],
  "metadata": {
    "kernelspec": {
      "display_name": "Python 3 (ipykernel)",
      "language": "python",
      "name": "python3"
    },
    "language_info": {
      "codemirror_mode": {
        "name": "ipython",
        "version": 3
      },
      "file_extension": ".py",
      "mimetype": "text/x-python",
      "name": "python",
      "nbconvert_exporter": "python",
      "pygments_lexer": "ipython3",
      "version": "3.10.2"
    },
    "colab": {
      "provenance": []
    }
  },
  "nbformat": 4,
  "nbformat_minor": 0
}