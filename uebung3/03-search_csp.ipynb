{
  "cells": [
    {
      "cell_type": "markdown",
      "metadata": {
        "id": "view-in-github",
        "colab_type": "text"
      },
      "source": [
        "<a href=\"https://colab.research.google.com/github/luimui/KI-1-SS24/blob/master/uebung3/03-search_csp.ipynb\" target=\"_parent\"><img src=\"https://colab.research.google.com/assets/colab-badge.svg\" alt=\"Open In Colab\"/></a>"
      ]
    },
    {
      "cell_type": "markdown",
      "metadata": {
        "id": "xwvnn10tWFNB"
      },
      "source": [
        "# 1 Suchalgorithmen\n",
        "## 1.1 Eigenschaften von Suchproblemen\n",
        "Diskutieren Sie die folgenden Begriffe:\n",
        "* Zustandsraum\n",
        "* Aktionen\n",
        "* Zielzustände\n",
        "* Initialzustand\n",
        "* Pfad im Zustandsraum\n",
        "* Kostenfunktion\n",
        "* Schrittkosten\n",
        "* Pfadkosten\n",
        "* Optimale Lösung\n"
      ]
    },
    {
      "cell_type": "markdown",
      "metadata": {
        "id": "bUdFF1l6WFND"
      },
      "source": [
        "## 1.2 Manuelles Ausrechnen\n",
        "Bevor wir die Suchalgorithmen implementieren, soll es in dieser Aufgabe darum gehen, die Algorithmen einmal \"per Hand\", mit Papier und Stift, durchzurechnen. Betrachten Sie dazu folgende Karte. Die Zahlen in Klammern geben jeweils den Wert der Heuristik an.\n",
        "\n",
        "![grafik.png](attachment:grafik.png)\n",
        "\n",
        "* Benutzen Sie die folgenden Suchalgorithmen um einen Weg zwischen dem Start und dem Ziel zu finden. Notieren Sie Ihre Berechnungen für jeden Schritt. Geben Sie Insbesondere den Inhalt des Stacks / der Queue in jedem Schritt an.\n",
        "    * Breitensuche\n",
        "    * Tiefensuche\n",
        "    * A*"
      ]
    },
    {
      "cell_type": "markdown",
      "metadata": {
        "id": "xJDr9ktsWFND"
      },
      "source": []
    },
    {
      "cell_type": "markdown",
      "metadata": {
        "id": "G9aOxReiWFNE"
      },
      "source": [
        "## 1.3 Roboter-Navigation\n",
        "\n",
        "Nun schauen wir uns an, wie die Suchalgorithmen benutzt werden können, um einen Roboter kürzeste Wege finden zu lassen.\n",
        "\n",
        "Wir nehmen an, dass der Roboter eine Karte der Umgebung hat, und weiß, an welchem Punkt er sich befindet. Um das Ganze einfacher zu machen, nehmen wir außerdem an, dass die Karte ein einfaches 2D-Raster von Zellen ist. Der Roboter kann jede Zelle entweder betreten (`0`) oder die Zelle ist blockiert (`1`).\n",
        "In unserer Implementierung ist die Karte eine Matrix von Integers. Zusätzlich gibt es Convenience-Funktionen, um die Nachbarn einer Zelle zu erhalten, und die Distanz zwischen zwei Zellen auszurechnen.\n"
      ]
    },
    {
      "cell_type": "code",
      "execution_count": null,
      "metadata": {
        "id": "RwD8IqNIWFNE"
      },
      "outputs": [],
      "source": [
        "\n",
        "import numpy as np\n",
        "import math\n",
        "\n",
        "def distance(x: int, y: int) -> int:\n",
        "    return (((x[0]-y[0]))**2+((x[1]-y[1])**2))\n",
        "\n",
        "\n",
        "class Map:\n",
        "    def __init__(self, m: np.ndarray) -> None:\n",
        "        self.m = m\n",
        "    def neighbors(self,cell):\n",
        "        nrow,ncol = m.shape\n",
        "        x,y = cell\n",
        "        nb = []\n",
        "        if x>0:\n",
        "            if m[x-1,y]==0:\n",
        "                nb = nb + [(x-1,y)]\n",
        "        if x<(nrow-1):\n",
        "            if m[x+1,y]==0:\n",
        "                nb = nb + [(x+1,y)]\n",
        "        if y>0:\n",
        "            if m[x,y-1]==0:\n",
        "                nb = nb + [(x,y-1)]\n",
        "        if y<(ncol-1):\n",
        "            if m[x,y+1]==0:\n",
        "                nb = nb + [(x,y+1)]\n",
        "        return nb\n",
        "\n",
        "\n",
        "\n",
        "m = np.array([[0,1,0,0,0,0,0],\n",
        "              [0,1,0,1,0,0,1],\n",
        "              [0,1,0,1,0,1,0],\n",
        "              [0,1,0,1,0,0,0],\n",
        "              [0,0,0,1,1,0,0],\n",
        "              [0,0,0,1,1,0,0]])\n",
        "mm = Map(m)\n",
        "mm.neighbors((4,1))"
      ]
    },
    {
      "cell_type": "markdown",
      "metadata": {
        "id": "JL2b9MmDWFNE"
      },
      "source": [
        "## Aufgabe\n",
        "\n",
        "* Implementieren Sie Tiefensuche, um einen Weg vom Start zum Ziel zu finden. Als Ausgabe soll ein Dictionary ausgegeben werden, dass für jeden (besuchten) Knoten den Vorgänger angibt.\n",
        "* Implementieren Sie den A*-Algorithmus, um von einem gegebenen Start den kürzesten Weg zum Ziel zu finden. Auch hier soll der Pfad als Liste von Zellen ausgegeben werden.\n",
        "* Testen Sie die Implementierungen mit der Karte `mm`, indem Sie den Weg von `(0,0)` zu `(5,6)` mit beiden Algorithmen ausrechnen.\n",
        "\n",
        "Weiterhin sind die Implementierungen eines Stacks und einer Priority Queue (Prioritätswarteschlange) gegeben."
      ]
    },
    {
      "cell_type": "code",
      "execution_count": null,
      "metadata": {
        "id": "rzgDWAKRWFNF"
      },
      "outputs": [],
      "source": [
        "import heapq\n",
        "import math\n",
        "\n",
        "class PriorityQueue:\n",
        "    def __init__(self):\n",
        "        self.elements = []\n",
        "\n",
        "    def empty(self):\n",
        "        return len(self.elements) == 0\n",
        "\n",
        "    def put(self, item, priority):\n",
        "        heapq.heappush(self.elements, (priority, item))\n",
        "\n",
        "    def get(self):\n",
        "        return heapq.heappop(self.elements)[1]\n",
        "\n",
        "class Stack:\n",
        "    def __init__(self):\n",
        "        self.elements = []\n",
        "\n",
        "    def empty(self):\n",
        "        return len(self.elements) == 0\n",
        "\n",
        "    def put(self, x):\n",
        "        self.elements.append(x)\n",
        "\n",
        "    def get(self):\n",
        "        return self.elements.pop()"
      ]
    },
    {
      "cell_type": "markdown",
      "metadata": {
        "id": "wMePZbEbWFNF"
      },
      "source": [
        "Ebenfalls ist eine Funktion `make_path(came_from,start,goal)` gegeben, die als Parameter jeweils ein Dictionary von Vorgängern bekommt,wie auch jeweils ein Tupel mit x- und y-Koordinate des Anfangs- und Zielknotens. Das Dictionary speichert für jeden Knoten (=Key) von welchem (Vorgänger-)Knoten (=Value) aus er expandiert wurde. Diese Funktion soll am Ende eines Suchalgorithmus verwendet werden, um das jeweilige Dictionary in einen kürzesten Pfad umgewandelt zu werden!   "
      ]
    },
    {
      "cell_type": "code",
      "execution_count": null,
      "metadata": {
        "id": "yzD8DUY7WFNF"
      },
      "outputs": [],
      "source": [
        "def make_path(came_from: dict, start:tuple[int,int], goal:tuple[int,int]) -> list:\n",
        "    path=[goal]\n",
        "    if start==goal:\n",
        "        return [start]\n",
        "    nex = came_from[goal]\n",
        "    while nex != start:\n",
        "        path.append(nex)\n",
        "        nex = came_from[nex]\n",
        "    path.reverse()\n",
        "    return [start] + path\n",
        "\n",
        "example_output = {(0,0): None,\n",
        "                  (1,0): (0,0),\n",
        "                  (1,1): (1,0),\n",
        "                  (2,0): (1,0),\n",
        "                  (2,1): (2,0),\n",
        "                  (2,2): (2,1)\n",
        "                 }\n",
        "start = (0,0)\n",
        "end = (2,2)\n",
        "print(make_path(example_output, start, end))"
      ]
    },
    {
      "cell_type": "markdown",
      "metadata": {
        "id": "DkiUTVhCWFNF"
      },
      "source": [
        "## Aufgabe\n",
        "Implementieren Sie den Tiefensuche-Algorithmus, um einen Weg vom Start zum Ziel zu finden. Dabei soll für jeden besuchten Knoten gespeichert werden, von welchem anderen (Vorgänger-)Knoten aus er expandiert/besucht wurde. Verwenden Sie dafür ein Dictionary, welches als Key den jeweils besuchten Knoten und als Value den Vorgänger-Knoten enthält."
      ]
    },
    {
      "cell_type": "code",
      "execution_count": null,
      "metadata": {
        "id": "qrDm2KswWFNF"
      },
      "outputs": [],
      "source": [
        "def dfs(map : Map, start:tuple[int,int], goal:tuple[int,int]) -> list:\n",
        "    unvisited_nodes = 'Welche Datenstruktur benötigen wir hier?'\n",
        "    unvisited_nodes.put(start)\n",
        "    # Dictionary indem wir für jeden besuchten Knoten speichern, von welchem Vorgänger-Knoten aus er expandiert wurde\n",
        "    visited_nodes = {}\n",
        "    visited_nodes[start] = None\n",
        "\n",
        "    # Implement DFS\n",
        "    while not unvisited_nodes.empty():\n",
        "        pass # Lösche bzw. ersetze mich mit dem DFS-Algorithmus\n",
        "\n",
        "    # Umwandeln des Dictionarys mit besuchten Knoten und deren Vorgängern in eine Liste die den gefundenen Pfad enthält\n",
        "    return make_path(visited_nodes, start, goal)\n",
        "\n",
        "path_dfs = dfs(mm,(0,0),(5,6))"
      ]
    },
    {
      "cell_type": "markdown",
      "metadata": {
        "id": "_i7UtheNWFNF"
      },
      "source": [
        "## Aufgabe\n",
        "Implementieren Sie den A*-Algorithmus, um von einem gegebenen Start den kürzesten Weg zum Ziel zu finden. Dabei soll für jeden besuchten Knoten gespeichert werden, von welchem anderen (Vorgänger-)Knoten aus er expandiert/besucht wurde. Verwenden Sie dafür ein Dictionary, welches als Key den jeweils besuchten Knoten und als Value den Vorgänger-Knoten enthält."
      ]
    },
    {
      "cell_type": "code",
      "execution_count": null,
      "metadata": {
        "id": "hwPxCSJjWFNG"
      },
      "outputs": [],
      "source": [
        "def astar(map : Map, start:tuple[int,int], goal:tuple[int,int]) -> tuple[list, dict]:\n",
        "    unvisited_nodes = 'Welche Datenstruktur benötigen wir hier?'\n",
        "    unvisited_nodes.put(start, 0)\n",
        "    # Dictionary in dem wir für jeden besuchten Knoten speichern, von welchem Vorgänger-Knoten aus er expandiert wurde\n",
        "    visited_nodes = {}\n",
        "    visited_nodes[start] = None\n",
        "    # Dictionary in dem für jeden besuchten Knoten die jeweils geschätzen Kosten bis zum Zielknoten speichern\n",
        "    cost_so_far = {}\n",
        "    cost_so_far[start] = 0\n",
        "\n",
        "    # Implement A*\n",
        "    while not unvisited_nodes.empty():\n",
        "        pass # Lösche bzw. ersetze mich mit dem A*-Algorithmus\n",
        "\n",
        "    return make_path(visited_nodes,start,goal), cost_so_far\n",
        "\n",
        "\n",
        "path_astar = astar(mm,(0,0),(5,6), verbose=0)[0]"
      ]
    },
    {
      "cell_type": "markdown",
      "metadata": {
        "tags": [],
        "id": "yfSyeWSuWFNG"
      },
      "source": [
        "## Aufgabe\n",
        "Verwenden Sie die unte definierte Funktion um sich die Map und den jeweils berechneten Weg plotten zu lassen!"
      ]
    },
    {
      "cell_type": "code",
      "execution_count": null,
      "metadata": {
        "id": "6J3vcTXlWFNG"
      },
      "outputs": [],
      "source": [
        "import matplotlib.pyplot as plt\n",
        "%matplotlib inline\n",
        "\n",
        "# print(path)\n",
        "\n",
        "def drawMap(map, path = None):\n",
        "    plt.matshow(map)\n",
        "    if path is not None:\n",
        "        x =  [x[0] for x in path]\n",
        "        y = [x[1] for x in path]\n",
        "        fig = plt.plot(y,x)\n",
        "\n",
        "\n",
        "drawMap(mm.m, path_dfs)\n",
        "drawMap(mm.m, path_astar)"
      ]
    },
    {
      "cell_type": "markdown",
      "metadata": {
        "id": "kPNuQXRwWFNG"
      },
      "source": [
        "## 1.4. Kartenfärbungsprobleme als CSP\n",
        "Gegeben sei die folgende Karte von Mecklenburg-Vorpommern.\n",
        "![grafik.png](attachment:grafik.png)\n",
        "* Spezifizieren Sie, analog zur Vorlesung, das zugehörige Kartenfärbungsproblem für 3 Farben als Constraint Satisfaction Problem. Geben Sie für alle Variablen die Domänen und alle notwendigen Bedingungen an.\n",
        "* Bestimmen Sie eine Lösung für dieses Problem über Suche mit Backtracking! Benutzen Sie dabei die Heuristik Minimum remaining values und geben Sie für jeden Zwischenschritt und jedes Land die möglichen Farben an!\n",
        "\n"
      ]
    },
    {
      "cell_type": "code",
      "execution_count": null,
      "metadata": {
        "id": "l6qqlpxqWFNG"
      },
      "outputs": [],
      "source": []
    }
  ],
  "metadata": {
    "kernelspec": {
      "display_name": "Python 3 (ipykernel)",
      "language": "python",
      "name": "python3"
    },
    "language_info": {
      "codemirror_mode": {
        "name": "ipython",
        "version": 3
      },
      "file_extension": ".py",
      "mimetype": "text/x-python",
      "name": "python",
      "nbconvert_exporter": "python",
      "pygments_lexer": "ipython3",
      "version": "3.10.2"
    },
    "colab": {
      "provenance": [],
      "include_colab_link": true
    }
  },
  "nbformat": 4,
  "nbformat_minor": 0
}