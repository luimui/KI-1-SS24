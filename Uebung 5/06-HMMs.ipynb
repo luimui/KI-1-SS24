{
  "cells": [
    {
      "cell_type": "markdown",
      "metadata": {
        "id": "view-in-github",
        "colab_type": "text"
      },
      "source": [
        "<a href=\"https://colab.research.google.com/github/luimui/KI-1-SS24/blob/master/Uebung%205/06-HMMs.ipynb\" target=\"_parent\"><img src=\"https://colab.research.google.com/assets/colab-badge.svg\" alt=\"Open In Colab\"/></a>"
      ]
    },
    {
      "cell_type": "markdown",
      "metadata": {
        "id": "uRLWPWc1qdpC"
      },
      "source": [
        "# Satz von Bayes und Hidden Markov Models\n",
        "## 1. Satz von Bayes\n",
        "\n",
        "Bob möchte gerne wissen, ob es regnet. Dazu schaut er aus dem Fenster, ob die Straße nass ist. Wenn es tatsächlich regnet, ist die Straße mit einer Wahrscheinlichkeit von 95 % nass (in 5 % der Fälle regnet es noch nicht lange genug, damit die Straße für Bob nass aussieht). Wenn es nicht regnet, ist die Straße mit einer Wahrscheinlichkeit von 25 % nass (weil der Nachbar von Bob den Rasensprenger laufen lässt, der auch die Straße trifft). Darüber hinaus weiß Bob, dass es an 40 % aller Tage regnet. Benutzen Sie für die folgenden Aufgaben die folgende Notation:\n",
        "\n",
        "* $r$: Es regnet.\n",
        "* $\\bar{r}$: Es regnet nicht.\n",
        "* $n$: Die Straße ist nass.\n",
        "\n",
        "Berechnen Sie die folgenden Wahrscheinlichkeiten:\n",
        "* $p(r) = 0.4 $\n",
        "* $p(\\bar{r}) = 0.6 $\n",
        "* $p(n|r) = 0.95 $\n",
        "* $p(n|\\bar{r}) = 0.25 $\n",
        "* $p(r|n) =  \\frac{0.95 * 0.4}{0.95*0.4+0.25*0.6}$"
      ]
    },
    {
      "cell_type": "markdown",
      "metadata": {
        "tags": [],
        "id": "rvwKIlwLqdpE"
      },
      "source": [
        "## 2. Hidden-Markov-Modelle\n",
        "Für eine Smartwatch soll ein System entwickelt werden, das automatisch erkennt, ob der\n",
        "Träger gerade schläft. Die Smartwatch enthält einen Beschleunigungssensor, der entwe-\n",
        "der den Wert wenig Bewegung“ oder den Wert viel Bewegung“ zurückliefert. Wenn der\n",
        "Träger schläft, ist die Wahrscheinlichkeit für viel Bewegung“ 5 % und die Wahrscheinlichkeit für wenig Bewegung“ 95 %. Wenn der Träger wach ist, ist die Wahrscheinlichkeit\n",
        "für viel Bewegung“ 60 % und die Wahrscheinlichkeit für wenig Bewegung“ 40 %. Wenn\n",
        "der Träger schläft, ist die Wahrscheinlichkeit, dass er im nächsten Zeitschritt wach ist,\n",
        "30 %. Wenn der Träger wach ist, ist die Wahrscheinlichkeit, dass er im nächsten Schritt\n",
        "schläft, 20 %. Zu Anfang schläft der Träger mit einer Wahrscheinlichkeit von 50 %.\n",
        "\n",
        "1. Spezifizieren Sie diesen Prozess als HMM, wobei der Zustand beschreibt, ob die Person schläft oder wach ist. Notieren Sie die Initialzustand und das Beobachtungsmodell.   \n",
        "\n",
        "2. Berechnen Sie, ausgehend von der initialen Wahrscheinlichkeitsverteilung über den Zuständen, ...   \n",
        "   a) die Vorhersage, d.h., Wahrscheinlichkeitsverteilung allein auf Basis des Transitionsmodelles!   \n",
        "\n",
        "   b) die Korrektur nach der Beobachtung wenig Bewegung“!   \n"
      ]
    },
    {
      "cell_type": "markdown",
      "source": [
        "\n",
        "\n",
        "1.   Listeneintrag\n",
        "2.   Listeneintrag\n",
        "\n"
      ],
      "metadata": {
        "id": "Qwrtp2NUwZ1A"
      }
    },
    {
      "cell_type": "markdown",
      "metadata": {
        "id": "Px90QIqZqdpE"
      },
      "source": [
        "## 2. Implementierung\n",
        "\n",
        "### Aufgabe 1\n",
        "Implementieren Sie zunächst für das oben beschriebene HMM das die Modelle für Transition und Observation, wie den Initalzustand des Systems!"
      ]
    },
    {
      "cell_type": "code",
      "execution_count": 19,
      "metadata": {
        "ExecuteTime": {
          "end_time": "2023-06-30T12:08:16.955975Z",
          "start_time": "2023-06-30T12:08:16.886967Z"
        },
        "tags": [],
        "id": "6xH9ZIv1qdpE"
      },
      "outputs": [],
      "source": [
        "import numpy as np"
      ]
    },
    {
      "cell_type": "code",
      "execution_count": 33,
      "metadata": {
        "ExecuteTime": {
          "end_time": "2023-06-30T12:11:04.708235Z",
          "start_time": "2023-06-30T12:11:04.686898Z"
        },
        "id": "ULDEV2lpqdpF"
      },
      "outputs": [],
      "source": [
        "#transition model\n",
        "T = np.array([[0.7, 0.2]\n",
        "            ,[0.3, 0.8]])\n",
        "#prior\n",
        "s0 = np.array([[0.5, 0.5]]).T\n",
        "\n",
        "#obs model\n",
        "O = np.array([[0.95, 0.4]\n",
        "            ,[0.05, 0.6]])"
      ]
    },
    {
      "cell_type": "code",
      "source": [
        "np.array(O[0,:])\n",
        "O\n"
      ],
      "metadata": {
        "id": "zwnVWw1o7Ehw",
        "outputId": "2882b0fd-1d1d-439c-d9be-b006cdb8f6dc",
        "colab": {
          "base_uri": "https://localhost:8080/"
        }
      },
      "execution_count": 34,
      "outputs": [
        {
          "output_type": "execute_result",
          "data": {
            "text/plain": [
              "array([[0.95, 0.4 ],\n",
              "       [0.05, 0.6 ]])"
            ]
          },
          "metadata": {},
          "execution_count": 34
        }
      ]
    },
    {
      "cell_type": "markdown",
      "metadata": {
        "id": "Le29S80WqdpF"
      },
      "source": [
        "### Aufgabe 2\n",
        "Implementieren Sie eine Funktion `predict(s,T)` die als Parameter eine Prior-Verteilung $p(x_t | y_{1:t})$ als Vektor $s$ und das Transitionsmodell als Matrix `A` bekommt und als Ausgabe die Verteilung $p(x_{t+1} | y_{1:t})$ liefert."
      ]
    },
    {
      "cell_type": "code",
      "execution_count": 35,
      "metadata": {
        "ExecuteTime": {
          "end_time": "2023-06-30T12:35:47.771412Z",
          "start_time": "2023-06-30T12:35:47.754756Z"
        },
        "id": "Y3qlOdR2qdpF"
      },
      "outputs": [],
      "source": [
        "def predict(s, T):\n",
        "    #np.matmul(s, T)\n",
        "    return T * s #np"
      ]
    },
    {
      "cell_type": "code",
      "source": [],
      "metadata": {
        "id": "JDT7pfuV56EZ"
      },
      "execution_count": 29,
      "outputs": []
    },
    {
      "cell_type": "markdown",
      "metadata": {
        "id": "S3efL6NwqdpF"
      },
      "source": [
        "### Aufgabe 3\n",
        "Implementieren Sie eine Funktion `update(s,O,y)` die als Parameter eine Verteilung $p(x_{t+1} | y_{1:t})$ als Vektor $s$, ein Observationsmodell als Matrix `O` und eine Beobachtung $y_{t+1}$ als Integer `y` bekommt und als Ausgabe $p(x_{t+1} | y_{1:t+1})$ liefert."
      ]
    },
    {
      "cell_type": "code",
      "execution_count": 36,
      "metadata": {
        "ExecuteTime": {
          "end_time": "2023-06-30T12:35:49.078538Z",
          "start_time": "2023-06-30T12:35:49.063814Z"
        },
        "id": "BzYynsrQqdpF"
      },
      "outputs": [],
      "source": [
        "def update(s, O, y):\n",
        "    #return np.matmul(O[y,:], s)\n",
        "\n",
        "    if y == \"V\":\n",
        "      row = 0\n",
        "    else:\n",
        "      row = 1\n",
        "\n",
        "    si = np.array(O[row,:] * s.T)\n",
        "\n",
        "    return (si/np.sum(si)).T"
      ]
    },
    {
      "cell_type": "markdown",
      "metadata": {
        "id": "pJt97Vm2qdpF"
      },
      "source": [
        "### Aufgabe 4\n",
        "Implementieren Sie eine Funktion `filter(s0,Y,T,O)` die als Parameter eine Prior-Verteilung $p(x_0)$ als Vektor `s0`, ein Transitions- und Beobachtungsmodell als Matrizen `T` und `O` und eine Sequenz von Beobachtungen $y_{1:T}$ als Vektor `yy` bekommt und für jedes $t = 1,...,T$ die Verteilung $p(x_t | y_{1:t})$ als Vektor berechnet und als Aufgabe somit eine $T \\times 2$-Matrix liefert."
      ]
    },
    {
      "cell_type": "code",
      "execution_count": 37,
      "metadata": {
        "ExecuteTime": {
          "end_time": "2023-06-30T12:35:50.991153Z",
          "start_time": "2023-06-30T12:35:50.974017Z"
        },
        "jupyter": {
          "outputs_hidden": false
        },
        "id": "VPfnjQ5JqdpG"
      },
      "outputs": [],
      "source": [
        "def filter(s0, O, T, yy):\n",
        "\n",
        "    s = np.array(s0)\n",
        "    ss = list([s])\n",
        "\n",
        "    for y in yy:\n",
        "      si = predict(s,T)\n",
        "      s = update(si, O, y)\n",
        "      ss.append(s)\n",
        "\n",
        "    return ss"
      ]
    },
    {
      "cell_type": "markdown",
      "metadata": {
        "id": "NxdVl_zWqdpG"
      },
      "source": [
        "Testen Sie nun ihre Implementierung mit dem untenstehenden Code."
      ]
    },
    {
      "cell_type": "code",
      "execution_count": 38,
      "metadata": {
        "ExecuteTime": {
          "end_time": "2023-06-30T12:37:11.902249Z",
          "start_time": "2023-06-30T12:37:11.880352Z"
        },
        "jupyter": {
          "outputs_hidden": false
        },
        "id": "aMun78_sqdpG",
        "outputId": "22b573b0-a8ff-4a45-f507-1b027186595f",
        "colab": {
          "base_uri": "https://localhost:8080/"
        }
      },
      "outputs": [
        {
          "output_type": "execute_result",
          "data": {
            "text/plain": [
              "[array([[0.5],\n",
              "        [0.5]]),\n",
              " array([[0.04964539, 0.0141844 ],\n",
              "        [0.25531915, 0.68085106]]),\n",
              " array([[4.63795551e-03, 3.78608613e-04],\n",
              "        [1.22669191e-01, 8.72314245e-01]]),\n",
              " array([[1.03840522e-02, 2.42193637e-04],\n",
              "        [4.95604664e-02, 9.39813288e-01]])]"
            ]
          },
          "metadata": {},
          "execution_count": 38
        }
      ],
      "source": [
        "yy = [\"W\",\"W\",\"V\"]\n",
        "ss = filter(s0,O,T,yy)\n",
        "ss"
      ]
    },
    {
      "cell_type": "code",
      "execution_count": 32,
      "metadata": {
        "jupyter": {
          "outputs_hidden": false
        },
        "id": "pQw6F3JnqdpG"
      },
      "outputs": [],
      "source": []
    }
  ],
  "metadata": {
    "kernelspec": {
      "display_name": "Python 3 (ipykernel)",
      "language": "python",
      "name": "python3"
    },
    "language_info": {
      "codemirror_mode": {
        "name": "ipython",
        "version": 3
      },
      "file_extension": ".py",
      "mimetype": "text/x-python",
      "name": "python",
      "nbconvert_exporter": "python",
      "pygments_lexer": "ipython3",
      "version": "3.11.4"
    },
    "colab": {
      "provenance": [],
      "include_colab_link": true
    }
  },
  "nbformat": 4,
  "nbformat_minor": 0
}